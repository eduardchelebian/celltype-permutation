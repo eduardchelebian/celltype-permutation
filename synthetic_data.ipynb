{
 "cells": [
  {
   "cell_type": "markdown",
   "metadata": {},
   "source": [
    "# Generate synthetic data"
   ]
  },
  {
   "cell_type": "code",
   "execution_count": null,
   "metadata": {},
   "outputs": [],
   "source": [
    "import pandas as pd\n",
    "import numpy as np\n",
    "from scipy.spatial.distance import cdist\n",
    "import matplotlib.pyplot as plt\n",
    "from matplotlib.patches import Ellipse"
   ]
  },
  {
   "cell_type": "markdown",
   "metadata": {},
   "source": [
    "## Register cell annotations to H&E\n",
    "\n",
    "`Xenium_FFPE_Human_Breast_Cancer_Rep1_cells.csv` and `Cell_Barcode_Type_Matrices.csv` available in [https://www.10xgenomics.com/products/xenium-in-situ/preview-dataset-human-breast](https://www.10xgenomics.com/products/xenium-in-situ/preview-dataset-human-breast)"
   ]
  },
  {
   "cell_type": "code",
   "execution_count": null,
   "metadata": {},
   "outputs": [],
   "source": [
    "cells = pd.read_csv('Xenium_FFPE_Human_Breast_Cancer_Rep1_cells.csv')\n",
    "annotations = pd.read_excel('Cell_Barcode_Type_Matrices.xlsx', sheet_name='Xenium R1 Fig1-5 (supervised)')"
   ]
  },
  {
   "cell_type": "code",
   "execution_count": null,
   "metadata": {},
   "outputs": [],
   "source": [
    "cell_annotations = pd.merge(cells, annotations, how='left', left_on=['cell_id'], right_on=['Barcode']).dropna()\n",
    "cell_annotations.x_centroid*=4.70588\n",
    "cell_annotations.y_centroid*=4.70953"
   ]
  },
  {
   "cell_type": "code",
   "execution_count": null,
   "metadata": {},
   "outputs": [],
   "source": [
    "cell_annotations['x_temp'] = cell_annotations.x_centroid//6\n",
    "cell_annotations['y_temp'] = cell_annotations.y_centroid//6\n",
    "\n",
    "cell_annotations.y_temp = cell_annotations.y_temp.max() - cell_annotations.y_temp\n",
    "\n",
    "affine_matrix = np.array([[1.711258423423306, 0.006516026161167, -1131.690570250315], \n",
    "                          [-0.009489031327157, 1.710461398370734, -1140.7384447381096],\n",
    "                          [0, 0, 1]])\n",
    "\n",
    "\n",
    "coords =  np.matmul(np.linalg.inv(affine_matrix),\n",
    "                    np.array([cell_annotations.x_temp, \n",
    "                              cell_annotations.y_temp, \n",
    "                              np.ones(len(cell_annotations))])).transpose()\n",
    "\n",
    "cell_annotations['x_he'] = coords[:,0]\n",
    "cell_annotations['y_he'] = coords[:,1]\n",
    "\n",
    "cell_annotations['x_he']*=6\n",
    "cell_annotations['y_he']*=6"
   ]
  },
  {
   "cell_type": "code",
   "execution_count": null,
   "metadata": {},
   "outputs": [],
   "source": [
    "cell_annotations.to_csv('cell_annotations.csv')"
   ]
  },
  {
   "cell_type": "markdown",
   "metadata": {},
   "source": [
    "## Register cell annotations to QuPath detections\n",
    "\n",
    "This step requires detecting cells using QuPath and saving as `measurements.csv`"
   ]
  },
  {
   "cell_type": "code",
   "execution_count": null,
   "metadata": {},
   "outputs": [],
   "source": [
    "measurements = pd.read_csv('measurements.csv')\n",
    "measurements['x_centroid']=measurements['Centroid X µm']/0.3528\n",
    "measurements['y_centroid']=measurements['Centroid Y µm']/0.3528\n",
    "\n",
    "cell_annotations = pd.read_csv('cell_annotations.csv')\n",
    "cell_annotations=cell_annotations[['x_he','y_he','Cluster']]\n",
    "cell_annotations=cell_annotations[cell_annotations.Cluster!='Unlabeled']"
   ]
  },
  {
   "cell_type": "code",
   "execution_count": null,
   "metadata": {},
   "outputs": [],
   "source": [
    "distances = cdist(measurements[['x_centroid', 'y_centroid']], cell_annotations[['x_he', 'y_he']])\n",
    "closest_clusters = cell_annotations.iloc[distances.argmin(axis=1)]['Cluster'].tolist()\n",
    "measurements['Assigned_Cluster'] = closest_clusters"
   ]
  },
  {
   "cell_type": "code",
   "execution_count": null,
   "metadata": {},
   "outputs": [],
   "source": [
    "measurements.to_csv('annotated_measurements.csv')"
   ]
  },
  {
   "cell_type": "markdown",
   "metadata": {},
   "source": [
    "## Generate synthetic Visium spots"
   ]
  },
  {
   "cell_type": "code",
   "execution_count": null,
   "metadata": {},
   "outputs": [],
   "source": [
    "df = pd.read_csv('annotated_measurements.csv')\n",
    "df['x_centroid']*=0.3528\n",
    "df['y_centroid']*=0.3528"
   ]
  },
  {
   "cell_type": "code",
   "execution_count": null,
   "metadata": {},
   "outputs": [],
   "source": [
    "# Extract the range of x and y coordinates\n",
    "x_min, x_max = df['x_centroid'].min(), df['x_centroid'].max()\n",
    "y_min, y_max = df['y_centroid'].min(), df['y_centroid'].max()\n",
    "\n",
    "# Calculate the number of hexagons in x and y directions\n",
    "num_hexagons_x = int((x_max - x_min) / (np.sqrt(3) * 50))\n",
    "num_hexagons_y = int((y_max - y_min) / (2 * 50))\n",
    "\n",
    "# Function to generate hexagonal grid points\n",
    "def generate_hexagonal_grid():\n",
    "    hexagon_centers = []\n",
    "    for i in range(num_hexagons_x + 1):\n",
    "        for j in range(num_hexagons_y + 1):\n",
    "            x_offset = x_min + i * np.sqrt(3) * 50\n",
    "            y_offset = y_min + j * 2 * 50 + (i % 2) * 50\n",
    "            hexagon_centers.append((x_offset, y_offset))\n",
    "    return hexagon_centers\n",
    "\n",
    "# Generate hexagonal grid points\n",
    "hexagon_centers = generate_hexagonal_grid()\n",
    "\n",
    "# Create DataFrame for visium spots\n",
    "df_visium_spots = pd.DataFrame(hexagon_centers, columns=['x_visium', 'y_visium'])\n",
    "\n",
    "# Filter out points outside the rectangle defined by x_centroid and y_centroid\n",
    "df_visium_spots = df_visium_spots[(df_visium_spots['x_visium'] >= x_min) & (df_visium_spots['x_visium'] <= x_max)\n",
    "                                & (df_visium_spots['y_visium'] >= y_min) & (df_visium_spots['y_visium'] <= y_max)]\n",
    "\n",
    "# Plotting the original centroids and visium spots as circles\n",
    "fig, ax = plt.subplots()\n",
    "ax.scatter(df['x_centroid'], df['y_centroid'], marker='.', color='blue', label='Original Centroids')\n",
    "\n",
    "for index, row in df_visium_spots.iterrows():\n",
    "    ellipse = Ellipse(xy=(row['x_visium'], row['y_visium']), width=55, height=55, edgecolor='red', facecolor='red', alpha=0.5)\n",
    "    ax.add_patch(ellipse)\n",
    "\n",
    "ax.set_xlabel('x_centroid')\n",
    "ax.set_ylabel('y_centroid')\n",
    "ax.legend()\n",
    "plt.show()"
   ]
  },
  {
   "cell_type": "code",
   "execution_count": null,
   "metadata": {},
   "outputs": [],
   "source": [
    "df_visium_spots.to_csv('visium_spots.csv', index=False)"
   ]
  },
  {
   "cell_type": "markdown",
   "metadata": {},
   "source": [
    "## Keep cells inside spots"
   ]
  },
  {
   "cell_type": "code",
   "execution_count": null,
   "metadata": {},
   "outputs": [],
   "source": [
    "annotated_measurements = pd.read_csv('annotated_measurements.csv')\n",
    "visium_spots = pd.read_csv('visium_spots.csv')"
   ]
  },
  {
   "cell_type": "code",
   "execution_count": null,
   "metadata": {},
   "outputs": [],
   "source": [
    "filtered_visium_spots = visium_spots.copy()\n",
    "\n",
    "for index, row in visium_spots.iterrows():\n",
    "    x_visium, y_visium = row['x_visium'], row['y_visium']\n",
    "    \n",
    "    if (\n",
    "        (x_visium - 55/2 >= annotated_measurements['Centroid X µm'].min()) and\n",
    "        (x_visium + 55/2 <= annotated_measurements['Centroid X µm'].max()) and\n",
    "        (y_visium - 55/2 >= annotated_measurements['Centroid Y µm'].min()) and\n",
    "        (y_visium + 55/2 <= annotated_measurements['Centroid Y µm'].max())\n",
    "    ):\n",
    "        continue\n",
    "    else:\n",
    "        filtered_visium_spots = filtered_visium_spots.drop(index)\n",
    "\n",
    "filtered_annotated_measurements = annotated_measurements.copy()\n",
    "\n",
    "for index, row in annotated_measurements.iterrows():\n",
    "    x_centroid, y_centroid = row['Centroid X µm'], row['Centroid Y µm']\n",
    "    \n",
    "    if any(\n",
    "        ((x_centroid - x_visium)**2 + (y_centroid - y_visium)**2)**0.5 <= 55/2\n",
    "        for x_visium, y_visium in zip(filtered_visium_spots['x_visium'], filtered_visium_spots['y_visium'])\n",
    "    ):\n",
    "        continue\n",
    "    else:\n",
    "        filtered_annotated_measurements = filtered_annotated_measurements.drop(index)"
   ]
  },
  {
   "cell_type": "code",
   "execution_count": null,
   "metadata": {},
   "outputs": [],
   "source": [
    "filtered_annotated_measurements['n_spot'] = None\n",
    "\n",
    "for index, row in filtered_annotated_measurements.iterrows():\n",
    "    x_centroid, y_centroid = row['Centroid X µm'], row['Centroid Y µm']\n",
    "    \n",
    "    matching_spot = filtered_visium_spots[\n",
    "        ((filtered_visium_spots['x_visium'] - x_centroid)**2 + (filtered_visium_spots['y_visium'] - y_centroid)**2)**0.5 <= 55/2\n",
    "    ]\n",
    "    \n",
    "    filtered_annotated_measurements.at[index, 'n_spot'] = matching_spot.index.values[0] if not matching_spot.empty else None"
   ]
  },
  {
   "cell_type": "code",
   "execution_count": null,
   "metadata": {},
   "outputs": [],
   "source": [
    "filtered_annotated_measurements.to_csv('filtered_annotated_measurements.csv')\n",
    "filtered_visium_spots.to_csv('filtered_visium_spots.csv')"
   ]
  }
 ],
 "metadata": {
  "kernelspec": {
   "display_name": "stenv",
   "language": "python",
   "name": "python3"
  },
  "language_info": {
   "codemirror_mode": {
    "name": "ipython",
    "version": 3
   },
   "file_extension": ".py",
   "mimetype": "text/x-python",
   "name": "python",
   "nbconvert_exporter": "python",
   "pygments_lexer": "ipython3",
   "version": "3.10.10"
  }
 },
 "nbformat": 4,
 "nbformat_minor": 2
}
