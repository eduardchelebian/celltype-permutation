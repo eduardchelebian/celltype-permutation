{
 "cells": [
  {
   "cell_type": "markdown",
   "metadata": {},
   "source": [
    "# Run on real data\n",
    "\n",
    "This requires having [run Tangram](https://squidpy.readthedocs.io/en/stable/notebooks/tutorials/tutorial_tangram.html). We propose a run in `run_tangram.py` that includes adding segmentation from QuPath. The following code starts from the endpoint of Tangram already having generated cell typing per cell but randomly allocated (in `per_cell.csv`). And also having some morphology, in this case, already from the QuPath measurements (`measurements.csv`)."
   ]
  },
  {
   "cell_type": "code",
   "execution_count": 1,
   "metadata": {},
   "outputs": [],
   "source": [
    "import random\n",
    "import numpy as np\n",
    "import pandas as pd\n",
    "import seaborn as sns\n",
    "import matplotlib.pyplot as plt\n",
    "from sklearn.metrics import davies_bouldin_score\n",
    "from sklearn.preprocessing import StandardScaler, OneHotEncoder"
   ]
  },
  {
   "cell_type": "markdown",
   "metadata": {},
   "source": [
    "## Load data"
   ]
  },
  {
   "cell_type": "code",
   "execution_count": 2,
   "metadata": {},
   "outputs": [
    {
     "data": {
      "text/html": [
       "<div>\n",
       "<style scoped>\n",
       "    .dataframe tbody tr th:only-of-type {\n",
       "        vertical-align: middle;\n",
       "    }\n",
       "\n",
       "    .dataframe tbody tr th {\n",
       "        vertical-align: top;\n",
       "    }\n",
       "\n",
       "    .dataframe thead th {\n",
       "        text-align: right;\n",
       "    }\n",
       "</style>\n",
       "<table border=\"1\" class=\"dataframe\">\n",
       "  <thead>\n",
       "    <tr style=\"text-align: right;\">\n",
       "      <th></th>\n",
       "      <th>x</th>\n",
       "      <th>y</th>\n",
       "      <th>Nucleus: Area</th>\n",
       "      <th>Nucleus: Perimeter</th>\n",
       "      <th>Nucleus: Circularity</th>\n",
       "      <th>Nucleus: Max caliper</th>\n",
       "      <th>Nucleus: Min caliper</th>\n",
       "      <th>Nucleus: Eccentricity</th>\n",
       "      <th>Nucleus: Hematoxylin OD mean</th>\n",
       "      <th>Nucleus: Hematoxylin OD sum</th>\n",
       "      <th>Nucleus: Hematoxylin OD std dev</th>\n",
       "      <th>Nucleus: Hematoxylin OD max</th>\n",
       "      <th>Nucleus: Hematoxylin OD min</th>\n",
       "      <th>Nucleus: Hematoxylin OD range</th>\n",
       "      <th>Nucleus: Eosin OD mean</th>\n",
       "      <th>Nucleus: Eosin OD sum</th>\n",
       "      <th>Nucleus: Eosin OD std dev</th>\n",
       "      <th>Nucleus: Eosin OD max</th>\n",
       "      <th>Nucleus: Eosin OD min</th>\n",
       "      <th>Nucleus: Eosin OD range</th>\n",
       "    </tr>\n",
       "  </thead>\n",
       "  <tbody>\n",
       "    <tr>\n",
       "      <th>0</th>\n",
       "      <td>7156</td>\n",
       "      <td>6782</td>\n",
       "      <td>35.9936</td>\n",
       "      <td>23.6512</td>\n",
       "      <td>0.8086</td>\n",
       "      <td>8.2728</td>\n",
       "      <td>6.0823</td>\n",
       "      <td>0.7279</td>\n",
       "      <td>0.4946</td>\n",
       "      <td>31.6565</td>\n",
       "      <td>0.1507</td>\n",
       "      <td>0.9179</td>\n",
       "      <td>0.2603</td>\n",
       "      <td>0.6576</td>\n",
       "      <td>-0.1094</td>\n",
       "      <td>-7.0043</td>\n",
       "      <td>0.0598</td>\n",
       "      <td>0.0209</td>\n",
       "      <td>-0.2550</td>\n",
       "      <td>0.2759</td>\n",
       "    </tr>\n",
       "    <tr>\n",
       "      <th>1</th>\n",
       "      <td>7111</td>\n",
       "      <td>6786</td>\n",
       "      <td>35.9936</td>\n",
       "      <td>24.3329</td>\n",
       "      <td>0.7639</td>\n",
       "      <td>8.4984</td>\n",
       "      <td>6.3719</td>\n",
       "      <td>0.5236</td>\n",
       "      <td>0.3908</td>\n",
       "      <td>26.5741</td>\n",
       "      <td>0.1448</td>\n",
       "      <td>0.7821</td>\n",
       "      <td>0.1446</td>\n",
       "      <td>0.6375</td>\n",
       "      <td>-0.1605</td>\n",
       "      <td>-10.9162</td>\n",
       "      <td>0.1158</td>\n",
       "      <td>0.1690</td>\n",
       "      <td>-0.3753</td>\n",
       "      <td>0.5443</td>\n",
       "    </tr>\n",
       "    <tr>\n",
       "      <th>2</th>\n",
       "      <td>7283</td>\n",
       "      <td>6786</td>\n",
       "      <td>35.4131</td>\n",
       "      <td>24.2790</td>\n",
       "      <td>0.7549</td>\n",
       "      <td>9.8109</td>\n",
       "      <td>5.0829</td>\n",
       "      <td>0.8852</td>\n",
       "      <td>0.5462</td>\n",
       "      <td>35.5015</td>\n",
       "      <td>0.2324</td>\n",
       "      <td>1.1658</td>\n",
       "      <td>0.2085</td>\n",
       "      <td>0.9573</td>\n",
       "      <td>-0.0986</td>\n",
       "      <td>-6.4065</td>\n",
       "      <td>0.0759</td>\n",
       "      <td>0.0366</td>\n",
       "      <td>-0.2848</td>\n",
       "      <td>0.3214</td>\n",
       "    </tr>\n",
       "    <tr>\n",
       "      <th>3</th>\n",
       "      <td>7307</td>\n",
       "      <td>6789</td>\n",
       "      <td>32.5104</td>\n",
       "      <td>20.9505</td>\n",
       "      <td>0.9308</td>\n",
       "      <td>8.2976</td>\n",
       "      <td>5.1150</td>\n",
       "      <td>0.7552</td>\n",
       "      <td>0.6228</td>\n",
       "      <td>34.8744</td>\n",
       "      <td>0.2919</td>\n",
       "      <td>1.2843</td>\n",
       "      <td>0.2624</td>\n",
       "      <td>1.0218</td>\n",
       "      <td>-0.2371</td>\n",
       "      <td>-13.2773</td>\n",
       "      <td>0.1102</td>\n",
       "      <td>0.0142</td>\n",
       "      <td>-0.4749</td>\n",
       "      <td>0.4891</td>\n",
       "    </tr>\n",
       "    <tr>\n",
       "      <th>4</th>\n",
       "      <td>7382</td>\n",
       "      <td>6801</td>\n",
       "      <td>114.9474</td>\n",
       "      <td>44.1042</td>\n",
       "      <td>0.7426</td>\n",
       "      <td>15.6610</td>\n",
       "      <td>10.7396</td>\n",
       "      <td>0.7573</td>\n",
       "      <td>0.4866</td>\n",
       "      <td>98.7756</td>\n",
       "      <td>0.1360</td>\n",
       "      <td>0.7944</td>\n",
       "      <td>0.2242</td>\n",
       "      <td>0.5702</td>\n",
       "      <td>-0.0825</td>\n",
       "      <td>-16.7569</td>\n",
       "      <td>0.0762</td>\n",
       "      <td>0.0799</td>\n",
       "      <td>-0.2210</td>\n",
       "      <td>0.3010</td>\n",
       "    </tr>\n",
       "  </tbody>\n",
       "</table>\n",
       "</div>"
      ],
      "text/plain": [
       "      x     y  Nucleus: Area  Nucleus: Perimeter  Nucleus: Circularity   \n",
       "0  7156  6782        35.9936             23.6512                0.8086  \\\n",
       "1  7111  6786        35.9936             24.3329                0.7639   \n",
       "2  7283  6786        35.4131             24.2790                0.7549   \n",
       "3  7307  6789        32.5104             20.9505                0.9308   \n",
       "4  7382  6801       114.9474             44.1042                0.7426   \n",
       "\n",
       "   Nucleus: Max caliper  Nucleus: Min caliper  Nucleus: Eccentricity   \n",
       "0                8.2728                6.0823                 0.7279  \\\n",
       "1                8.4984                6.3719                 0.5236   \n",
       "2                9.8109                5.0829                 0.8852   \n",
       "3                8.2976                5.1150                 0.7552   \n",
       "4               15.6610               10.7396                 0.7573   \n",
       "\n",
       "   Nucleus: Hematoxylin OD mean  Nucleus: Hematoxylin OD sum   \n",
       "0                        0.4946                      31.6565  \\\n",
       "1                        0.3908                      26.5741   \n",
       "2                        0.5462                      35.5015   \n",
       "3                        0.6228                      34.8744   \n",
       "4                        0.4866                      98.7756   \n",
       "\n",
       "   Nucleus: Hematoxylin OD std dev  Nucleus: Hematoxylin OD max   \n",
       "0                           0.1507                       0.9179  \\\n",
       "1                           0.1448                       0.7821   \n",
       "2                           0.2324                       1.1658   \n",
       "3                           0.2919                       1.2843   \n",
       "4                           0.1360                       0.7944   \n",
       "\n",
       "   Nucleus: Hematoxylin OD min  Nucleus: Hematoxylin OD range   \n",
       "0                       0.2603                         0.6576  \\\n",
       "1                       0.1446                         0.6375   \n",
       "2                       0.2085                         0.9573   \n",
       "3                       0.2624                         1.0218   \n",
       "4                       0.2242                         0.5702   \n",
       "\n",
       "   Nucleus: Eosin OD mean  Nucleus: Eosin OD sum  Nucleus: Eosin OD std dev   \n",
       "0                 -0.1094                -7.0043                     0.0598  \\\n",
       "1                 -0.1605               -10.9162                     0.1158   \n",
       "2                 -0.0986                -6.4065                     0.0759   \n",
       "3                 -0.2371               -13.2773                     0.1102   \n",
       "4                 -0.0825               -16.7569                     0.0762   \n",
       "\n",
       "   Nucleus: Eosin OD max  Nucleus: Eosin OD min  Nucleus: Eosin OD range  \n",
       "0                 0.0209                -0.2550                   0.2759  \n",
       "1                 0.1690                -0.3753                   0.5443  \n",
       "2                 0.0366                -0.2848                   0.3214  \n",
       "3                 0.0142                -0.4749                   0.4891  \n",
       "4                 0.0799                -0.2210                   0.3010  "
      ]
     },
     "execution_count": 2,
     "metadata": {},
     "output_type": "execute_result"
    }
   ],
   "source": [
    "measurements = pd.read_csv('measurements.csv')\n",
    "measurements['Centroid X µm']*=1.3125\n",
    "measurements['Centroid Y µm']*=1.3125\n",
    "measurements=measurements.rename(columns={'Centroid X µm':'x', 'Centroid Y µm':'y'})\n",
    "measurements=measurements.iloc[:,6:26]\n",
    "measurements[['x','y']]=measurements[['x','y']].astype(int)\n",
    "measurements.head()"
   ]
  },
  {
   "cell_type": "code",
   "execution_count": 3,
   "metadata": {},
   "outputs": [
    {
     "data": {
      "text/html": [
       "<div>\n",
       "<style scoped>\n",
       "    .dataframe tbody tr th:only-of-type {\n",
       "        vertical-align: middle;\n",
       "    }\n",
       "\n",
       "    .dataframe tbody tr th {\n",
       "        vertical-align: top;\n",
       "    }\n",
       "\n",
       "    .dataframe thead th {\n",
       "        text-align: right;\n",
       "    }\n",
       "</style>\n",
       "<table border=\"1\" class=\"dataframe\">\n",
       "  <thead>\n",
       "    <tr style=\"text-align: right;\">\n",
       "      <th></th>\n",
       "      <th>x</th>\n",
       "      <th>y</th>\n",
       "      <th>centroids</th>\n",
       "      <th>cluster</th>\n",
       "    </tr>\n",
       "  </thead>\n",
       "  <tbody>\n",
       "    <tr>\n",
       "      <th>0</th>\n",
       "      <td>7060</td>\n",
       "      <td>8044</td>\n",
       "      <td>AAGTTCACTCCAAGCT-1_0</td>\n",
       "      <td>Lamp5</td>\n",
       "    </tr>\n",
       "    <tr>\n",
       "      <th>1</th>\n",
       "      <td>7060</td>\n",
       "      <td>8116</td>\n",
       "      <td>AAGTTCACTCCAAGCT-1_1</td>\n",
       "      <td>Sst</td>\n",
       "    </tr>\n",
       "    <tr>\n",
       "      <th>2</th>\n",
       "      <td>7110</td>\n",
       "      <td>6962</td>\n",
       "      <td>AATAGAATCTGTTTCA-1_0</td>\n",
       "      <td>Vip</td>\n",
       "    </tr>\n",
       "    <tr>\n",
       "      <th>3</th>\n",
       "      <td>7134</td>\n",
       "      <td>6972</td>\n",
       "      <td>AATAGAATCTGTTTCA-1_1</td>\n",
       "      <td>Vip</td>\n",
       "    </tr>\n",
       "    <tr>\n",
       "      <th>4</th>\n",
       "      <td>7108</td>\n",
       "      <td>7000</td>\n",
       "      <td>AATAGAATCTGTTTCA-1_2</td>\n",
       "      <td>Vip</td>\n",
       "    </tr>\n",
       "  </tbody>\n",
       "</table>\n",
       "</div>"
      ],
      "text/plain": [
       "      x     y             centroids cluster\n",
       "0  7060  8044  AAGTTCACTCCAAGCT-1_0   Lamp5\n",
       "1  7060  8116  AAGTTCACTCCAAGCT-1_1     Sst\n",
       "2  7110  6962  AATAGAATCTGTTTCA-1_0     Vip\n",
       "3  7134  6972  AATAGAATCTGTTTCA-1_1     Vip\n",
       "4  7108  7000  AATAGAATCTGTTTCA-1_2     Vip"
      ]
     },
     "execution_count": 3,
     "metadata": {},
     "output_type": "execute_result"
    }
   ],
   "source": [
    "per_cell = pd.read_csv('per_cell.csv')\n",
    "per_cell[['x','y']]=per_cell[['x','y']].astype(int)\n",
    "per_cell=per_cell.drop(columns=['Unnamed: 0.1','Unnamed: 0'])\n",
    "per_cell.head()"
   ]
  },
  {
   "cell_type": "code",
   "execution_count": 4,
   "metadata": {},
   "outputs": [],
   "source": [
    "df = pd.merge(per_cell, measurements, on=['x','y'], how='left')"
   ]
  },
  {
   "cell_type": "code",
   "execution_count": 5,
   "metadata": {},
   "outputs": [
    {
     "name": "stdout",
     "output_type": "stream",
     "text": [
      "(65, 18)\n"
     ]
    }
   ],
   "source": [
    "scaler = StandardScaler()\n",
    "B = df.iloc[:,4:].values\n",
    "B = scaler.fit_transform(B)\n",
    "print(B.shape)"
   ]
  },
  {
   "cell_type": "code",
   "execution_count": 6,
   "metadata": {},
   "outputs": [
    {
     "name": "stdout",
     "output_type": "stream",
     "text": [
      "(65,)\n"
     ]
    }
   ],
   "source": [
    "X_perm = pd.Categorical(df.cluster).codes\n",
    "print(X_perm.shape)"
   ]
  },
  {
   "cell_type": "code",
   "execution_count": 7,
   "metadata": {},
   "outputs": [
    {
     "name": "stdout",
     "output_type": "stream",
     "text": [
      "(28, 65)\n"
     ]
    }
   ],
   "source": [
    "df['short_centroids'] = df['centroids'].str.split('-1').str[0]\n",
    "encoder = OneHotEncoder(sparse_output=False)\n",
    "A = encoder.fit_transform(df[['short_centroids']]).T\n",
    "print(A.shape)"
   ]
  },
  {
   "cell_type": "markdown",
   "metadata": {},
   "source": [
    "## Run method"
   ]
  },
  {
   "cell_type": "code",
   "execution_count": 8,
   "metadata": {},
   "outputs": [],
   "source": [
    "from celltype_permutation import hierarchical_permutations"
   ]
  },
  {
   "cell_type": "code",
   "execution_count": null,
   "metadata": {},
   "outputs": [],
   "source": [
    "X_global = hierarchical_permutations(A, X_perm, B)"
   ]
  },
  {
   "cell_type": "markdown",
   "metadata": {},
   "source": [
    "## Evaluate results"
   ]
  },
  {
   "cell_type": "code",
   "execution_count": 10,
   "metadata": {},
   "outputs": [],
   "source": [
    "random_score = []\n",
    "for i in range(10000):\n",
    "    X_list = []\n",
    "    for (Am, Xm) in zip(A,A*X_perm):\n",
    "        Xm_sh = Xm[Am>0]\n",
    "        random.shuffle(Xm_sh)\n",
    "        X_list.append(Xm_sh)\n",
    "    X_list = np.hstack(X_list)\n",
    "    random_score.append(davies_bouldin_score(B, X_list))"
   ]
  },
  {
   "cell_type": "code",
   "execution_count": 11,
   "metadata": {},
   "outputs": [
    {
     "data": {
      "text/plain": [
       "<matplotlib.legend.Legend at 0x1b9c5137e50>"
      ]
     },
     "execution_count": 11,
     "metadata": {},
     "output_type": "execute_result"
    },
    {
     "data": {
      "image/png": "[encoded data removed]",
      "text/plain": [
       "<Figure size 700x700 with 1 Axes>"
      ]
     },
     "metadata": {},
     "output_type": "display_data"
    }
   ],
   "source": [
    "sns.set(font_scale=2, font='serif', style='whitegrid')\n",
    "plt.figure(figsize=(7,7))\n",
    "sns.kdeplot(random_score,linewidth=2, color='gray', label='Random')\n",
    "plt.scatter(davies_bouldin_score(B, X_global),0,marker='x',s=200, c='r',linewidths=4)\n",
    "plt.xlabel('Davies-Bouldin score')\n",
    "plt.ylim(-0.05, )\n",
    "plt.legend()"
   ]
  }
 ],
 "metadata": {
  "kernelspec": {
   "display_name": "stenv",
   "language": "python",
   "name": "python3"
  },
  "language_info": {
   "codemirror_mode": {
    "name": "ipython",
    "version": 3
   },
   "file_extension": ".py",
   "mimetype": "text/x-python",
   "name": "python",
   "nbconvert_exporter": "python",
   "pygments_lexer": "ipython3",
   "version": "3.10.10"
  }
 },
 "nbformat": 4,
 "nbformat_minor": 2
}
